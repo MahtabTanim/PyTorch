{
 "cells": [
  {
   "cell_type": "code",
   "execution_count": null,
   "metadata": {},
   "outputs": [],
   "source": [
    "import torch\n",
    "import numpy as np\n",
    "\n",
    "points = torch.tensor([[4,0],[5,3],[2,1]]).to(torch.float)\n",
    "points"
   ]
  },
  {
   "cell_type": "code",
   "execution_count": 20,
   "metadata": {},
   "outputs": [
    {
     "data": {
      "text/plain": [
       "tensor([[4., 5., 2.],\n",
       "        [0., 3., 1.]])"
      ]
     },
     "execution_count": 20,
     "metadata": {},
     "output_type": "execute_result"
    }
   ],
   "source": [
    "points_t = points.t() # transpose function t()\n",
    "points_t"
   ]
  },
  {
   "cell_type": "code",
   "execution_count": null,
   "metadata": {},
   "outputs": [],
   "source": [
    "id(points_t.storage())==id(points.storage())"
   ]
  },
  {
   "cell_type": "code",
   "execution_count": null,
   "metadata": {},
   "outputs": [],
   "source": [
    "\n",
    "print(points.storage_offset(),points_t.storage_offset())\n",
    "print(points.stride() , points_t.stride())#checking stride # stride changes while transposing e.g -> (2,1) becomes (1,2) , main storage stays same\n"
   ]
  },
  {
   "cell_type": "code",
   "execution_count": 6,
   "metadata": {},
   "outputs": [],
   "source": [
    "#multidimensional transpose\n",
    "some_t = torch.ones(10,10,5)\n",
    "transpose_t = torch.transpose(some_t,0,2)"
   ]
  },
  {
   "cell_type": "code",
   "execution_count": null,
   "metadata": {},
   "outputs": [],
   "source": [
    "some_t.size(),transpose_t.size()"
   ]
  },
  {
   "cell_type": "code",
   "execution_count": null,
   "metadata": {},
   "outputs": [],
   "source": [
    "some_t.shape,transpose_t.shape"
   ]
  },
  {
   "cell_type": "code",
   "execution_count": null,
   "metadata": {},
   "outputs": [],
   "source": [
    "some_t.stride(),transpose_t.stride() # so just stride is changed , nothing else , storage is created once"
   ]
  },
  {
   "cell_type": "code",
   "execution_count": 14,
   "metadata": {},
   "outputs": [
    {
     "data": {
      "text/plain": [
       "(True, False)"
      ]
     },
     "execution_count": 14,
     "metadata": {},
     "output_type": "execute_result"
    }
   ],
   "source": [
    "#contigious Tensors-some operations only works on contigous tensors such as view ,sometimes we have to call cotigous xplicitly\n",
    "points.is_contiguous(),points_t.is_contiguous() # checking if a tensor is contigous"
   ]
  },
  {
   "cell_type": "code",
   "execution_count": 19,
   "metadata": {},
   "outputs": [
    {
     "name": "stdout",
     "output_type": "stream",
     "text": [
      "tensor([[4., 5., 2.],\n",
      "        [0., 3., 1.]]) tensor([[4., 5., 2.],\n",
      "        [0., 3., 1.]])\n",
      "(1, 2)\n",
      "(3, 1)\n"
     ]
    }
   ],
   "source": [
    "points_t_cont = points_t.contiguous() # this operation will make points_t contigous , but stride & storage will be changed\n",
    "print(points_t,points_t_cont)\n",
    "print(points_t.stride())\n",
    "print(points_t_cont.stride()) #stride is changed"
   ]
  },
  {
   "cell_type": "code",
   "execution_count": 22,
   "metadata": {},
   "outputs": [
    {
     "data": {
      "text/plain": [
       "( 4.0\n",
       "  0.0\n",
       "  5.0\n",
       "  3.0\n",
       "  2.0\n",
       "  1.0\n",
       " [torch.storage.TypedStorage(dtype=torch.float32, device=cpu) of size 6],\n",
       "  4.0\n",
       "  5.0\n",
       "  2.0\n",
       "  0.0\n",
       "  3.0\n",
       "  1.0\n",
       " [torch.storage.TypedStorage(dtype=torch.float32, device=cpu) of size 6])"
      ]
     },
     "execution_count": 22,
     "metadata": {},
     "output_type": "execute_result"
    }
   ],
   "source": [
    "points_t.storage() , points_t_cont.storage() #strage has changed too"
   ]
  }
 ],
 "metadata": {
  "kernelspec": {
   "display_name": "Python 3",
   "language": "python",
   "name": "python3"
  },
  "language_info": {
   "codemirror_mode": {
    "name": "ipython",
    "version": 3
   },
   "file_extension": ".py",
   "mimetype": "text/x-python",
   "name": "python",
   "nbconvert_exporter": "python",
   "pygments_lexer": "ipython3",
   "version": "3.10.7"
  }
 },
 "nbformat": 4,
 "nbformat_minor": 2
}
