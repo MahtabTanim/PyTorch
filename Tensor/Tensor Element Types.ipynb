{
 "cells": [
  {
   "cell_type": "code",
   "execution_count": 2,
   "metadata": {},
   "outputs": [],
   "source": [
    "import numpy as np\n",
    "import torch\n",
    "import random"
   ]
  },
  {
   "cell_type": "code",
   "execution_count": 9,
   "metadata": {},
   "outputs": [
    {
     "name": "stdout",
     "output_type": "stream",
     "text": [
      "torch.float64\n"
     ]
    }
   ],
   "source": [
    "A= torch.tensor([3,3]) #creates a tensor with 64 bit integer values by default(when we specify integer in arguments)\n",
    "B = torch.ones(5,2) # creates a floating32 tensor , float32 is deafult value\n",
    "double_points = torch.ones(5,2,dtype=torch.double) #float64\n",
    "short_ = torch.tensor([[1,2],[3,4]] , dtype=torch.short) #short/int16\n",
    "\n",
    "double_points = torch.zeros(10,2).int() # casting\n",
    "short_ = torch.ones(10,2).float() #casting\n",
    "\n",
    "double_points = torch.zeros(10,2).to(torch.double) # casting -> standard method\n",
    "short_ = torch.ones(10,2).to(dtype = torch.float32) #casting -> standard method\n",
    "print(double_points.dtype)"
   ]
  },
  {
   "cell_type": "code",
   "execution_count": 14,
   "metadata": {},
   "outputs": [
    {
     "data": {
      "text/plain": [
       "tensor([-0.0000, 2.3338, 0.6238, 1.0569, 0.0000], dtype=torch.float64)"
      ]
     },
     "execution_count": 14,
     "metadata": {},
     "output_type": "execute_result"
    }
   ],
   "source": [
    "points64 = torch.randn(5).to(dtype=torch.double) # 64 bit float this is standard method\n",
    "points16 = torch.randn(5).to(dtype=torch.short) # 16 bit short\n",
    "points16 * points64 # this opertaion will result in greater data type , in this case 64"
   ]
  },
  {
   "cell_type": "code",
   "execution_count": 12,
   "metadata": {},
   "outputs": [
    {
     "data": {
      "text/plain": [
       "(torch.Size([5, 10]),\n",
       " torch.float32,\n",
       " tensor([[0.7385, 0.0124, 0.2134, 0.0260, 0.3503, 0.3899, 0.8537, 0.4695, 0.8823,\n",
       "          0.7573],\n",
       "         [0.5103, 0.3270, 0.7452, 0.9532, 0.3628, 0.7668, 0.3674, 0.7791, 0.0820,\n",
       "          0.7843],\n",
       "         [0.0268, 0.1623, 0.0481, 0.7468, 0.3945, 0.7190, 0.4647, 0.1482, 0.6033,\n",
       "          0.9686],\n",
       "         [0.6432, 0.7826, 0.1367, 0.0542, 0.4244, 0.5126, 0.9086, 0.6554, 0.0983,\n",
       "          0.5145],\n",
       "         [0.4565, 0.1656, 0.8212, 0.0501, 0.7493, 0.6398, 0.6588, 0.3787, 0.5999,\n",
       "          0.3141]]))"
      ]
     },
     "execution_count": 12,
     "metadata": {},
     "output_type": "execute_result"
    }
   ],
   "source": [
    "C =torch.rand(5,10)\n",
    "C\n",
    "C.shape, C.dtype,C"
   ]
  },
  {
   "cell_type": "code",
   "execution_count": null,
   "metadata": {},
   "outputs": [],
   "source": []
  }
 ],
 "metadata": {
  "kernelspec": {
   "display_name": "Python 3",
   "language": "python",
   "name": "python3"
  },
  "language_info": {
   "codemirror_mode": {
    "name": "ipython",
    "version": 3
   },
   "file_extension": ".py",
   "mimetype": "text/x-python",
   "name": "python",
   "nbconvert_exporter": "python",
   "pygments_lexer": "ipython3",
   "version": "3.10.7"
  }
 },
 "nbformat": 4,
 "nbformat_minor": 2
}
