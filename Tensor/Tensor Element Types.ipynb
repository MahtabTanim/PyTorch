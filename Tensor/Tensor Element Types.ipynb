{
 "cells": [
  {
   "cell_type": "code",
   "execution_count": 3,
   "metadata": {},
   "outputs": [],
   "source": [
    "import numpy as np\n",
    "import torch\n",
    "import random"
   ]
  },
  {
   "cell_type": "code",
   "execution_count": 28,
   "metadata": {},
   "outputs": [],
   "source": [
    "A= torch.tensor([3,3]) #creates a tensor with 64 bit integer values by default(when we specify integer in [])\n",
    "B = torch.ones(5,2) # creates a floating32 tensor , float32 is deafult value\n",
    "double_points = torch.ones(5,2,dtype=torch.double) #float64\n",
    "short_ = torch.tensor([[1,2],[3,4]] , dtype=torch.short) #short/int16\n",
    "\n",
    "double_points = torch.zeros(10,2).int() # casting\n",
    "short_ = torch.ones(10,2).float() #casting\n",
    "\n",
    "double_points = torch.zeros(10,2).to(torch.double) # casting -> standard method\n",
    "short_ = torch.ones(10,2).to(dtype = torch.float32) #casting -> standard method\n"
   ]
  },
  {
   "cell_type": "code",
   "execution_count": 30,
   "metadata": {},
   "outputs": [
    {
     "data": {
      "text/plain": [
       "tensor([0.0000, 0.0000, 0.0000, 3.1994, -0.0000], dtype=torch.float64)"
      ]
     },
     "execution_count": 30,
     "metadata": {},
     "output_type": "execute_result"
    }
   ],
   "source": [
    "points64 = torch.randn(5).to(dtype=torch.double) # 64 bit float\n",
    "points16 = torch.randn(5).to(dtype=torch.short) # 16 bit short\n",
    "points16 * points64 # this opertaion will result in greater data type , in this case 64"
   ]
  },
  {
   "cell_type": "code",
   "execution_count": null,
   "metadata": {},
   "outputs": [],
   "source": []
  }
 ],
 "metadata": {
  "kernelspec": {
   "display_name": "Python 3",
   "language": "python",
   "name": "python3"
  },
  "language_info": {
   "codemirror_mode": {
    "name": "ipython",
    "version": 3
   },
   "file_extension": ".py",
   "mimetype": "text/x-python",
   "name": "python",
   "nbconvert_exporter": "python",
   "pygments_lexer": "ipython3",
   "version": "3.10.7"
  }
 },
 "nbformat": 4,
 "nbformat_minor": 2
}
